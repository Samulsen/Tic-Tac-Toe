{
 "cells": [
  {
   "cell_type": "code",
   "execution_count": 41,
   "metadata": {},
   "outputs": [
    {
     "name": "stdout",
     "output_type": "stream",
     "text": [
      "0 Edge, 0 Side, 0 Middle = 0\n",
      "0 Edge, 0 Side, 1 Middle = 17\n",
      "0 Edge, 1 Side, 0 Middle = 9\n",
      "0 Edge, 1 Side, 1 Middle = 26\n",
      "0 Edge, 2 Side, 0 Middle = 18\n",
      "0 Edge, 2 Side, 1 Middle = 35\n",
      "0 Edge, 3 Side, 0 Middle = 27\n",
      "0 Edge, 3 Side, 1 Middle = 44\n",
      "0 Edge, 4 Side, 0 Middle = 36\n",
      "0 Edge, 4 Side, 1 Middle = 53\n",
      "1 Edge, 0 Side, 0 Middle = 7\n",
      "1 Edge, 0 Side, 1 Middle = 24\n",
      "1 Edge, 1 Side, 0 Middle = 16\n",
      "1 Edge, 1 Side, 1 Middle = 33\n",
      "1 Edge, 2 Side, 0 Middle = 25\n",
      "1 Edge, 2 Side, 1 Middle = 42\n",
      "1 Edge, 3 Side, 0 Middle = 34\n",
      "1 Edge, 3 Side, 1 Middle = 51\n",
      "1 Edge, 4 Side, 0 Middle = 43\n",
      "1 Edge, 4 Side, 1 Middle = 60\n",
      "2 Edge, 0 Side, 0 Middle = 14\n",
      "2 Edge, 0 Side, 1 Middle = 31\n",
      "2 Edge, 1 Side, 0 Middle = 23\n",
      "2 Edge, 1 Side, 1 Middle = 40\n",
      "2 Edge, 2 Side, 0 Middle = 32\n",
      "2 Edge, 2 Side, 1 Middle = 49\n",
      "2 Edge, 3 Side, 0 Middle = 41\n",
      "2 Edge, 3 Side, 1 Middle = 58\n",
      "2 Edge, 4 Side, 0 Middle = 50\n",
      "2 Edge, 4 Side, 1 Middle = 67\n",
      "3 Edge, 0 Side, 0 Middle = 21\n",
      "3 Edge, 0 Side, 1 Middle = 38\n",
      "3 Edge, 1 Side, 0 Middle = 30\n",
      "3 Edge, 1 Side, 1 Middle = 47\n",
      "3 Edge, 2 Side, 0 Middle = 39\n",
      "3 Edge, 2 Side, 1 Middle = 56\n",
      "3 Edge, 3 Side, 0 Middle = 48\n",
      "3 Edge, 3 Side, 1 Middle = 65\n",
      "3 Edge, 4 Side, 0 Middle = 57\n",
      "3 Edge, 4 Side, 1 Middle = 74\n",
      "4 Edge, 0 Side, 0 Middle = 28\n",
      "4 Edge, 0 Side, 1 Middle = 45\n",
      "4 Edge, 1 Side, 0 Middle = 37\n",
      "4 Edge, 1 Side, 1 Middle = 54\n",
      "4 Edge, 2 Side, 0 Middle = 46\n",
      "4 Edge, 2 Side, 1 Middle = 63\n",
      "4 Edge, 3 Side, 0 Middle = 55\n",
      "4 Edge, 3 Side, 1 Middle = 72\n",
      "4 Edge, 4 Side, 0 Middle = 64\n",
      "4 Edge, 4 Side, 1 Middle = 81\n",
      "Initial Values = 50\n",
      "Set Value = 50\n"
     ]
    }
   ],
   "source": [
    "e = 7\n",
    "s = 9\n",
    "m = 17\n",
    "edgeNum = range(5)\n",
    "sideNum = range(5)\n",
    "midNum = range(2)\n",
    "reducedValues = []\n",
    "\n",
    "def reducer(x,y,z):\n",
    "    result = x*e + y*s + z*m\n",
    "    print(f\"{x} Edge, {y} Side, {z} Middle = {result}\")\n",
    "    return result\n",
    "\n",
    "for edge in edgeNum:\n",
    "    for side in sideNum:\n",
    "        for mid in midNum:\n",
    "            reducedValues.append(reducer(edge, side, mid))\n",
    "\n",
    "len(reducedValues) == len(set(reducedValues))\n",
    "print(\"Initial Values = \" + str(len(reducedValues)))\n",
    "print(\"Set Value = \" + str(len(set(reducedValues))))"
   ]
  },
  {
   "cell_type": "code",
   "execution_count": null,
   "metadata": {},
   "outputs": [],
   "source": []
  },
  {
   "cell_type": "code",
   "execution_count": null,
   "metadata": {},
   "outputs": [],
   "source": []
  }
 ],
 "metadata": {
  "kernelspec": {
   "display_name": "Python 3",
   "language": "python",
   "name": "python3"
  },
  "language_info": {
   "codemirror_mode": {
    "name": "ipython",
    "version": 3
   },
   "file_extension": ".py",
   "mimetype": "text/x-python",
   "name": "python",
   "nbconvert_exporter": "python",
   "pygments_lexer": "ipython3",
   "version": "3.10.11"
  },
  "orig_nbformat": 4
 },
 "nbformat": 4,
 "nbformat_minor": 2
}
